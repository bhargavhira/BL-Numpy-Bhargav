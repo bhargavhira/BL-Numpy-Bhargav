{
 "cells": [
  {
   "cell_type": "code",
   "execution_count": null,
   "metadata": {},
   "outputs": [
    {
     "name": "stdout",
     "output_type": "stream",
     "text": [
      "Original List: [12.23, 13.32, 100, 36.32]\n",
      "One Dimensional Array: [ 12.23  13.32 100.    36.32]\n"
     ]
    }
   ],
   "source": [
    "# 1) \n",
    "import numpy as np\n",
    "\n",
    "\n",
    "num_list = [12.23, 13.32, 100, 36.32]\n",
    "print(\"Original List:\", num_list)\n",
    "\n",
    "\n",
    "num_array = np.array(num_list)\n",
    "print(\"One Dimensional Array:\", num_array)\n",
    "\n"
   ]
  },
  {
   "cell_type": "code",
   "execution_count": 2,
   "metadata": {},
   "outputs": [
    {
     "name": "stdout",
     "output_type": "stream",
     "text": [
      "[[ 2  3  4]\n",
      " [ 5  6  7]\n",
      " [ 8  9 10]]\n"
     ]
    }
   ],
   "source": [
    "#2\n",
    "import numpy as np\n",
    "\n",
    "arr = np.array([[2,5,8], [3,6,9], [4,7,10]])\n",
    "print(arr.T)\n",
    "\n"
   ]
  },
  {
   "cell_type": "code",
   "execution_count": 3,
   "metadata": {},
   "outputs": [
    {
     "name": "stdout",
     "output_type": "stream",
     "text": [
      "[0. 0. 0. 0. 0. 0. 0. 0. 0. 0.]\n",
      "Updated sixth value to 11: [ 0.  0.  0.  0.  0.  0. 11.  0.  0.  0.]\n"
     ]
    }
   ],
   "source": [
    "#3\n",
    "import numpy as np\n",
    "\n",
    "arr = np.zeros(10)\n",
    "print(arr)\n",
    "arr[6] = 11\n",
    "print(\"Updated sixth value to 11:\", arr)\n",
    "\n"
   ]
  },
  {
   "cell_type": "code",
   "execution_count": 5,
   "metadata": {},
   "outputs": [
    {
     "name": "stdout",
     "output_type": "stream",
     "text": [
      "Original Array:  [12 13 14 15 16 17 18 19 20 21 22 23 24 25 26 27 28 29 30 31 32 33 34 35\n",
      " 36 37]\n",
      "Reverse array:  [37 36 35 34 33 32 31 30 29 28 27 26 25 24 23 22 21 20 19 18 17 16 15 14\n",
      " 13 12]\n"
     ]
    }
   ],
   "source": [
    "#4\n",
    "import numpy as np\n",
    "\n",
    "arr = np.array([12, 13, 14, 15, 16, 17, 18, 19, 20, 21, 22, 23, 24, 25, 26, 27, 28, 29, 30, 31, 32, 33, 34, 35, 36, 37])\n",
    "print(\"Original Array: \", arr)\n",
    "reversed_arr = arr[::-1]\n",
    "print(\"Reverse array: \", reversed_arr)\n",
    "\n"
   ]
  },
  {
   "cell_type": "code",
   "execution_count": 14,
   "metadata": {},
   "outputs": [
    {
     "name": "stdout",
     "output_type": "stream",
     "text": [
      "Original array: \n",
      " [[1. 1. 1. 1. 1.]\n",
      " [1. 1. 1. 1. 1.]\n",
      " [1. 1. 1. 1. 1.]\n",
      " [1. 1. 1. 1. 1.]\n",
      " [1. 1. 1. 1. 1.]]\n",
      "1 on the border and 0 inside in the array \n",
      " [[1. 1. 1. 1. 1.]\n",
      " [1. 0. 0. 0. 1.]\n",
      " [1. 0. 0. 0. 1.]\n",
      " [1. 0. 0. 0. 1.]\n",
      " [1. 1. 1. 1. 1.]]\n"
     ]
    }
   ],
   "source": [
    "#5\n",
    "import numpy as np\n",
    "\n",
    "arr = np.ones((5, 5))\n",
    "print(\"Original array: \\n\", arr)\n",
    "arr[1:-1, 1:-1] = 0\n",
    "print(\"1 on the border and 0 inside in the array \\n\",arr)\n",
    "\n"
   ]
  },
  {
   "cell_type": "code",
   "execution_count": 15,
   "metadata": {},
   "outputs": [
    {
     "name": "stdout",
     "output_type": "stream",
     "text": [
      "Original array: \n",
      " [[0. 0. 0. 0. 0.]\n",
      " [0. 0. 0. 0. 0.]\n",
      " [0. 0. 0. 0. 0.]\n",
      " [0. 0. 0. 0. 0.]\n",
      " [0. 0. 0. 0. 0.]]\n",
      "1 on the border and 0 inside in the array \n",
      " [[0. 0. 0. 0. 0.]\n",
      " [0. 1. 1. 1. 0.]\n",
      " [0. 1. 1. 1. 0.]\n",
      " [0. 1. 1. 1. 0.]\n",
      " [0. 0. 0. 0. 0.]]\n"
     ]
    }
   ],
   "source": [
    "#6\n",
    "import numpy as np\n",
    "arr = np.zeros((5, 5))\n",
    "print(\"Original array: \\n\", arr)\n",
    "arr[1:-1, 1:-1] = 1\n",
    "print(\"1 on the border and 0 inside in the array \\n\", arr)\n"
   ]
  },
  {
   "cell_type": "code",
   "execution_count": 16,
   "metadata": {},
   "outputs": [
    {
     "name": "stdout",
     "output_type": "stream",
     "text": [
      "Checkerboard pattern: \n",
      " [[0. 1. 0. 1. 0. 1. 0. 1.]\n",
      " [1. 0. 1. 0. 1. 0. 1. 0.]\n",
      " [0. 1. 0. 1. 0. 1. 0. 1.]\n",
      " [1. 0. 1. 0. 1. 0. 1. 0.]\n",
      " [0. 1. 0. 1. 0. 1. 0. 1.]\n",
      " [1. 0. 1. 0. 1. 0. 1. 0.]\n",
      " [0. 1. 0. 1. 0. 1. 0. 1.]\n",
      " [1. 0. 1. 0. 1. 0. 1. 0.]]\n"
     ]
    }
   ],
   "source": [
    "#7\n",
    "import numpy as np\n",
    "\n",
    "checkerboard = np.zeros((8, 8))\n",
    "checkerboard[::2, 1::2] = 1\n",
    "checkerboard[1::2, ::2] = 1\n",
    "print(\"Checkerboard pattern: \\n\", checkerboard)\n",
    "\n"
   ]
  },
  {
   "cell_type": "code",
   "execution_count": 21,
   "metadata": {},
   "outputs": [
    {
     "name": "stdout",
     "output_type": "stream",
     "text": [
      "List to array:\n",
      " [1 2 3 4 5 6 7 8]\n",
      "Tuple to array:\n",
      " [[8 4 6]\n",
      " [1 2 3]]\n"
     ]
    }
   ],
   "source": [
    "#8\n",
    "import numpy as np\n",
    "\n",
    "my_list = [1, 2, 3, 4, 5, 6, 7, 8]\n",
    "list_array = np.array(my_list)\n",
    "print(\"List to array:\\n\",list_array)\n",
    "\n",
    "my_tuple = ((8, 4, 6), (1, 2, 3))\n",
    "tuple_array = np.array(my_tuple)\n",
    "print(\"Tuple to array:\\n\",tuple_array)\n",
    "\n",
    "\n",
    "\n"
   ]
  },
  {
   "cell_type": "code",
   "execution_count": 24,
   "metadata": {},
   "outputs": [
    {
     "name": "stdout",
     "output_type": "stream",
     "text": [
      "Original array: \n",
      " [10 20 30]\n",
      "After append values to the end of the array:\n",
      " [10 20 30 40 50 60 70 80 90]\n"
     ]
    }
   ],
   "source": [
    "#9\n",
    "import numpy as np\n",
    "\n",
    "arr = np.array([10, 20, 30])\n",
    "print(\"Original array: \\n\", arr)\n",
    "new_arr = np.append(arr, [40, 50, 60, 70, 80, 90])\n",
    "print(\"After append values to the end of the array:\\n\", new_arr)\n",
    "\n"
   ]
  },
  {
   "cell_type": "code",
   "execution_count": 2,
   "metadata": {},
   "outputs": [
    {
     "name": "stdout",
     "output_type": "stream",
     "text": [
      "Original array \n",
      " [1.        +0.j         0.70710678+0.70710678j]\n",
      "Real part of the array: \n",
      " [1.         0.70710678]\n",
      "Imaginary part of the array: \n",
      " [0.         0.70710678]\n"
     ]
    }
   ],
   "source": [
    "#10\n",
    "import numpy as np\n",
    "\n",
    "complex_arr = np.array([1.00000000+0j, 0.70710678 + 0.70710678j])\n",
    "\n",
    "real_part = np.real(complex_arr)\n",
    "imag_part = np.imag(complex_arr)\n",
    "\n",
    "print(\"Original array \\n\", complex_arr)\n",
    "print(\"Real part of the array: \\n\", real_part)\n",
    "print(\"Imaginary part of the array: \\n\", imag_part)\n",
    "\n",
    "\n"
   ]
  },
  {
   "cell_type": "code",
   "execution_count": 4,
   "metadata": {},
   "outputs": [
    {
     "name": "stdout",
     "output_type": "stream",
     "text": [
      "Size of the array: 3\n",
      "Lenght of one array element in bytes: 8\n",
      "Total bytes consumed by the elements of the array: 24\n"
     ]
    }
   ],
   "source": [
    "#11\n",
    "import numpy as np\n",
    "\n",
    "arr = np.array([10, 20, 30], dtype=np.int64)\n",
    "\n",
    "size = arr.size\n",
    "\n",
    "element_size = arr.itemsize\n",
    "\n",
    "total_size = size*element_size\n",
    "\n",
    "print(\"Size of the array:\", size)\n",
    "print(\"Lenght of one array element in bytes:\", element_size)\n",
    "print(\"Total bytes consumed by the elements of the array:\", total_size)\n"
   ]
  },
  {
   "cell_type": "code",
   "execution_count": 5,
   "metadata": {},
   "outputs": [
    {
     "name": "stdout",
     "output_type": "stream",
     "text": [
      "Array1: [ 0 10 20 40 60]\n",
      "Array2: [10 30 40]\n",
      "Common values between two arrays:\n",
      "[10 40]\n"
     ]
    }
   ],
   "source": [
    "#12\n",
    "import numpy as np\n",
    "\n",
    "array1 = np.array([0, 10, 20, 40, 60])\n",
    "array2 = np.array([10, 30, 40])\n",
    "\n",
    "common_values = np.intersect1d(array1, array2)\n",
    "\n",
    "print(\"Array1:\", array1)\n",
    "print(\"Array2:\", array2)\n",
    "print(\"Common values between two arrays:\")\n",
    "print(common_values)\n"
   ]
  },
  {
   "cell_type": "code",
   "execution_count": 7,
   "metadata": {},
   "outputs": [
    {
     "name": "stdout",
     "output_type": "stream",
     "text": [
      "Array1: [ 0 10 20 40 60 80]\n",
      "Array2: [10 30 40 50 70 90]\n",
      "Set difference between two arrays: [ 0 20 60 80]\n"
     ]
    }
   ],
   "source": [
    "#13\n",
    "import numpy as np\n",
    "\n",
    "array1 = np.array([0, 10, 20, 40, 60, 80])\n",
    "array2 = np.array([10, 30, 40, 50, 70, 90])\n",
    "\n",
    "set_difference = np.setdiff1d(array1, array2)\n",
    "\n",
    "print(\"Array1:\", array1)\n",
    "print(\"Array2:\", array2)\n",
    "print(\"Set difference between two arrays:\", set_difference)\n",
    "\n"
   ]
  },
  {
   "cell_type": "code",
   "execution_count": 10,
   "metadata": {},
   "outputs": [
    {
     "name": "stdout",
     "output_type": "stream",
     "text": [
      "Array1: [ 0 10 20 40 60 80]\n",
      "Array2: [10 30 40 50 70]\n",
      "Unique values that are in only one (not both) of the input arrays:\n",
      "[ 0 20 30 50 60 70 80]\n"
     ]
    }
   ],
   "source": [
    "#14\n",
    "import numpy as np\n",
    "\n",
    "array1 = np.array([0, 10, 20, 40, 60, 80])\n",
    "array2 = np.array([10, 30, 40, 50, 70])\n",
    "\n",
    "xor_values = np.setxor1d(array1, array2)\n",
    "\n",
    "print(\"Array1:\", array1)\n",
    "print(\"Array2:\", array2)\n",
    "print(\"Unique values that are in only one (not both) of the input arrays:\")\n",
    "print(xor_values)\n"
   ]
  },
  {
   "cell_type": "code",
   "execution_count": 11,
   "metadata": {},
   "outputs": [
    {
     "name": "stdout",
     "output_type": "stream",
     "text": [
      "Array a: [1 2]\n",
      "Array b: [4 5]\n",
      "a > b\n",
      "[False False]\n",
      "a >= b\n",
      "[False False]\n",
      "a < b\n",
      "[ True  True]\n",
      "a <= b\n",
      "[ True  True]\n"
     ]
    }
   ],
   "source": [
    "#15\n",
    "import numpy as np\n",
    "\n",
    "a = np.array([1, 2])\n",
    "b = np.array([4, 5])\n",
    "\n",
    "print(\"Array a:\", a)\n",
    "print(\"Array b:\", b)\n",
    "print(\"a > b\")\n",
    "print(a > b)\n",
    "print(\"a >= b\")\n",
    "print(a >= b)\n",
    "print(\"a < b\")\n",
    "print(a < b)\n",
    "print(\"a <= b\")\n",
    "print(a <= b)"
   ]
  },
  {
   "cell_type": "code",
   "execution_count": null,
   "metadata": {},
   "outputs": [
    {
     "name": "stdout",
     "output_type": "stream",
     "text": [
      "Array saved to 'array.txt'\n"
     ]
    }
   ],
   "source": [
    "#15\n",
    "import numpy as np\n",
    "\n",
    "arr = np.array([[1, 2, 3], [4, 5, 6]])\n",
    "\n",
    "np.savetxt(\"array.txt\", arr, fmt=\"%d\")\n",
    "print(\"Array saved to 'array.txt'\")\n"
   ]
  },
  {
   "cell_type": "code",
   "execution_count": null,
   "metadata": {},
   "outputs": [
    {
     "name": "stdout",
     "output_type": "stream",
     "text": [
      "Orginal array:\n",
      "[[10 20 30]\n",
      " [20 40 50]]\n",
      "New flattened array:\n",
      "[10 20 30 20 40 50]\n"
     ]
    }
   ],
   "source": [
    "#16\n",
    "import numpy as np\n",
    "\n",
    "original_array = np.array([[10, 20, 30], [20, 40, 50]])\n",
    "\n",
    "flattened_array = original_array.ravel()\n",
    "\n",
    "print(\"Orginal array:\")\n",
    "print(original_array)\n",
    "print(\"New flattened array:\")\n",
    "print(flattened_array)\n"
   ]
  },
  {
   "cell_type": "code",
   "execution_count": null,
   "metadata": {},
   "outputs": [
    {
     "name": "stdout",
     "output_type": "stream",
     "text": [
      "[[ 2  4  6]\n",
      " [ 6  8 10]]\n",
      "Data type of the array x is: int64\n",
      "New Type: float64\n",
      "[[ 2.  4.  6.]\n",
      " [ 6.  8. 10.]]\n"
     ]
    }
   ],
   "source": [
    "#17\n",
    "import numpy as np\n",
    "\n",
    "x = np.array([[2, 4, 6], [6, 8, 10]])\n",
    "\n",
    "print(x)\n",
    "print(\"Data type of the array x is:\", x.dtype)\n",
    "x_float = x.astype(np.float64)\n",
    "\n",
    "print(\"New Type:\", x_float.dtype)\n",
    "print(x_float)\n"
   ]
  },
  {
   "cell_type": "code",
   "execution_count": 23,
   "metadata": {},
   "outputs": [
    {
     "name": "stdout",
     "output_type": "stream",
     "text": [
      "[[1 0 0]\n",
      " [0 1 0]\n",
      " [0 0 1]]\n"
     ]
    }
   ],
   "source": [
    "#18\n",
    "import numpy as np\n",
    "\n",
    "arr = np.zeros((3, 3, 3), dtype=float)\n",
    "\n",
    "arr = np.diag([1, 1, 1])\n",
    "\n",
    "print(arr)\n",
    "\n"
   ]
  },
  {
   "cell_type": "code",
   "execution_count": null,
   "metadata": {},
   "outputs": [
    {
     "name": "stdout",
     "output_type": "stream",
     "text": [
      "[[0. 0. 0.]\n",
      " [1. 0. 0.]\n",
      " [1. 1. 0.]\n",
      " [1. 1. 1.]]\n"
     ]
    }
   ],
   "source": [
    "#19\n",
    "import numpy as np\n",
    "\n",
    "arr = np.array([\n",
    "    [0., 0., 0.],\n",
    "    [1., 0., 0.],\n",
    "    [1., 1., 0.],\n",
    "    [1., 1., 1.]\n",
    "])\n",
    "print(arr)\n"
   ]
  },
  {
   "cell_type": "code",
   "execution_count": 1,
   "metadata": {},
   "outputs": [
    {
     "name": "stdout",
     "output_type": "stream",
     "text": [
      "Concatenate Array:\n",
      "[[ 0  1  3  0  2  4]\n",
      " [ 5  7  9  6  8 10]]\n"
     ]
    }
   ],
   "source": [
    "#20\n",
    "import numpy as np\n",
    "\n",
    "arr1 = np.array([[0, 1, 3], [5, 7, 9]])\n",
    "arr2 = np.array([[0, 2, 4], [6, 8, 10]])\n",
    "\n",
    "result = np.concatenate((arr1, arr2), axis=1)\n",
    "\n",
    "print(\"Concatenate Array:\")\n",
    "print(result)\n",
    "\n"
   ]
  },
  {
   "cell_type": "code",
   "execution_count": 7,
   "metadata": {},
   "outputs": [
    {
     "name": "stdout",
     "output_type": "stream",
     "text": [
      "Is the array writeable? True\n",
      "Array is now read-only!\n",
      "Error: assignment destination is read-only\n"
     ]
    }
   ],
   "source": [
    "#21\n",
    "import numpy as np\n",
    "\n",
    "arr = np.array([10, 20, 30])\n",
    "\n",
    "print(\"Is the array writeable?\", arr.flags.writeable)\n",
    "\n",
    "arr.flags.writeable = False\n",
    "print(\"Array is now read-only!\")\n",
    "\n",
    "try:\n",
    "    arr[0] = 100\n",
    "except ValueError as e:\n",
    "    print(\"Error:\", e)\n",
    "\n",
    "\n",
    "\n"
   ]
  },
  {
   "cell_type": "code",
   "execution_count": 9,
   "metadata": {},
   "outputs": [
    {
     "name": "stdout",
     "output_type": "stream",
     "text": [
      "Original array elements:\n",
      "[[ 0  1  2  3]\n",
      " [ 4  5  6  7]\n",
      " [ 8  9 10 11]]\n",
      "\n",
      " New array elements:\n",
      "[[ 0  3  6  9]\n",
      " [12 15 18 21]\n",
      " [24 27 30 33]]\n"
     ]
    }
   ],
   "source": [
    "#22\n",
    "import numpy as np\n",
    "\n",
    "arr = np.arange(12).reshape(3, 4)\n",
    "\n",
    "new_arr = arr * 3\n",
    "\n",
    "print(\"Original array elements:\")\n",
    "print(arr)\n",
    "\n",
    "print(\"\\n New array elements:\")\n",
    "print(new_arr)\n",
    "\n"
   ]
  },
  {
   "cell_type": "code",
   "execution_count": 10,
   "metadata": {},
   "outputs": [
    {
     "name": "stdout",
     "output_type": "stream",
     "text": [
      "Original array elements:\n",
      "[[0 1]\n",
      " [2 3]\n",
      " [4 5]]\n",
      "\n",
      "Array to list:\n",
      "[[0, 1], [2, 3], [4, 5]]\n"
     ]
    }
   ],
   "source": [
    "#23\n",
    "import numpy as np\n",
    "\n",
    "arr = np.array([[0, 1], [2, 3], [4, 5]])\n",
    "\n",
    "arr_list = arr.tolist()\n",
    "\n",
    "print(\"Original array elements:\")\n",
    "print(arr)\n",
    "\n",
    "print(\"\\nArray to list:\")\n",
    "print(arr_list)\n",
    "\n"
   ]
  },
  {
   "cell_type": "code",
   "execution_count": 12,
   "metadata": {},
   "outputs": [
    {
     "name": "stdout",
     "output_type": "stream",
     "text": [
      "Original array elements:\n",
      "[0.477 0.267 0.901 0.941 0.692 0.31  0.467 0.092 0.964 0.764]\n",
      "\n",
      "Converted to Python list:\n",
      "[0.4768384322375724, 0.26664487258468417, 0.9014691095685714, 0.941445483981228, 0.6919108904879393, 0.3096836192061747, 0.4671026612442092, 0.09207798261125177, 0.9641763674177615, 0.7641119200884059]\n",
      "\n",
      "Print array values with precision 3:\n",
      "[0.477 0.267 0.901 0.941 0.692 0.31  0.467 0.092 0.964 0.764]\n"
     ]
    }
   ],
   "source": [
    "#24\n",
    "import numpy as np\n",
    "\n",
    "arr = np.random.rand(10)\n",
    "\n",
    "print(\"Original array elements:\")\n",
    "print(arr)\n",
    "\n",
    "arr_list = arr.tolist()\n",
    "print(\"\\nConverted to Python list:\")\n",
    "print(arr_list)\n",
    "\n",
    "np.set_printoptions(precision=3, suppress=True)\n",
    "print(\"\\nPrint array values with precision 3:\")\n",
    "print(arr)\n"
   ]
  },
  {
   "cell_type": "code",
   "execution_count": 13,
   "metadata": {},
   "outputs": [
    {
     "name": "stdout",
     "output_type": "stream",
     "text": [
      "Original array:\n",
      "[   0.       1.6   1200.       0.235]\n",
      "\n",
      "Array without scientific notation:\n",
      "[   0.       1.6   1200.       0.235]\n"
     ]
    }
   ],
   "source": [
    "#25\n",
    "import numpy as np\n",
    "\n",
    "arr = np.array([0.00000000016, 1.6, 1200, 0.235])\n",
    "\n",
    "print(\"Original array:\")\n",
    "print(arr)\n",
    "\n",
    "np.set_printoptions(suppress=True, precision=3)\n",
    "\n",
    "print(\"\\nArray without scientific notation:\")\n",
    "print(arr)\n",
    "\n",
    "\n"
   ]
  },
  {
   "cell_type": "code",
   "execution_count": 14,
   "metadata": {},
   "outputs": [
    {
     "name": "stdout",
     "output_type": "stream",
     "text": [
      "Array after adding extra column:\n",
      "[[ 10  20  30 100]\n",
      " [ 40  50  60 200]]\n"
     ]
    }
   ],
   "source": [
    "#26\n",
    "import numpy as np\n",
    "\n",
    "arr = np.array([\n",
    "    [10, 20, 30],\n",
    "    [40, 50, 60]\n",
    "])\n",
    "\n",
    "new_column = np.array([\n",
    "    [100], \n",
    "    [200]\n",
    "])\n",
    "\n",
    "result = np.concatenate((arr, new_column), axis=1)\n",
    "\n",
    "print(\"Array after adding extra column:\")\n",
    "print(result)\n"
   ]
  },
  {
   "cell_type": "code",
   "execution_count": 16,
   "metadata": {},
   "outputs": [
    {
     "name": "stdout",
     "output_type": "stream",
     "text": [
      "Original array:\n",
      "[ 10  20  30  40  50  60  70  80  90 100]\n",
      "\n",
      "Array after removing selected elements:\n",
      "[ 20  30  60  70  80  90 100]\n"
     ]
    }
   ],
   "source": [
    "#27\n",
    "import numpy as np\n",
    "\n",
    "arr = np.array([10, 20, 30, 40, 50, 60, 70, 80, 90, 100])\n",
    "\n",
    "print(\"Original array:\")\n",
    "print(arr)\n",
    "\n",
    "indexes_to_remove = [0, 3, 4]\n",
    "\n",
    "new_arr = np.delete(arr, indexes_to_remove)\n",
    "\n",
    "print(\"\\nArray after removing selected elements:\")\n",
    "print(new_arr)\n"
   ]
  }
 ],
 "metadata": {
  "kernelspec": {
   "display_name": "Python 3",
   "language": "python",
   "name": "python3"
  },
  "language_info": {
   "codemirror_mode": {
    "name": "ipython",
    "version": 3
   },
   "file_extension": ".py",
   "mimetype": "text/x-python",
   "name": "python",
   "nbconvert_exporter": "python",
   "pygments_lexer": "ipython3",
   "version": "3.12.6"
  }
 },
 "nbformat": 4,
 "nbformat_minor": 2
}
